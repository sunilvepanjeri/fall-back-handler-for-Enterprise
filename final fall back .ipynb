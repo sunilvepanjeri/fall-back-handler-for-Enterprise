{
 "cells": [
  {
   "cell_type": "code",
   "execution_count": 63,
   "id": "9ce5d4db",
   "metadata": {},
   "outputs": [],
   "source": [
    "import pandas as pd"
   ]
  },
  {
   "cell_type": "code",
   "execution_count": 64,
   "id": "ced12d92",
   "metadata": {},
   "outputs": [],
   "source": [
    "data = pd.read_csv('FALL&NOT FALL BACK.csv')"
   ]
  },
  {
   "cell_type": "code",
   "execution_count": 65,
   "id": "b30fe80d",
   "metadata": {},
   "outputs": [
    {
     "data": {
      "text/html": [
       "<div>\n",
       "<style scoped>\n",
       "    .dataframe tbody tr th:only-of-type {\n",
       "        vertical-align: middle;\n",
       "    }\n",
       "\n",
       "    .dataframe tbody tr th {\n",
       "        vertical-align: top;\n",
       "    }\n",
       "\n",
       "    .dataframe thead th {\n",
       "        text-align: right;\n",
       "    }\n",
       "</style>\n",
       "<table border=\"1\" class=\"dataframe\">\n",
       "  <thead>\n",
       "    <tr style=\"text-align: right;\">\n",
       "      <th></th>\n",
       "      <th>Bot Response</th>\n",
       "      <th>Status</th>\n",
       "    </tr>\n",
       "  </thead>\n",
       "  <tbody>\n",
       "    <tr>\n",
       "      <th>0</th>\n",
       "      <td>Truist Knowledge Domain: ➡️ Advisor Support -&gt;...</td>\n",
       "      <td>NOT FALL BACK</td>\n",
       "    </tr>\n",
       "    <tr>\n",
       "      <th>1</th>\n",
       "      <td>Truist Knowledge Domain: ➡️ Advisor Support -&gt;...</td>\n",
       "      <td>NOT FALL BACK</td>\n",
       "    </tr>\n",
       "    <tr>\n",
       "      <th>2</th>\n",
       "      <td>Truist Knowledge Domain: ➡️ Advisor Support -&gt;...</td>\n",
       "      <td>NOT FALL BACK</td>\n",
       "    </tr>\n",
       "    <tr>\n",
       "      <th>3</th>\n",
       "      <td>Truist Knowledge Domain: ➡️ Advisor Support -&gt;...</td>\n",
       "      <td>NOT FALL BACK</td>\n",
       "    </tr>\n",
       "    <tr>\n",
       "      <th>4</th>\n",
       "      <td>Truist Knowledge Domain: ➡️ Advisor Support -&gt;...</td>\n",
       "      <td>NOT FALL BACK</td>\n",
       "    </tr>\n",
       "  </tbody>\n",
       "</table>\n",
       "</div>"
      ],
      "text/plain": [
       "                                        Bot Response         Status\n",
       "0  Truist Knowledge Domain: ➡️ Advisor Support ->...  NOT FALL BACK\n",
       "1  Truist Knowledge Domain: ➡️ Advisor Support ->...  NOT FALL BACK\n",
       "2  Truist Knowledge Domain: ➡️ Advisor Support ->...  NOT FALL BACK\n",
       "3  Truist Knowledge Domain: ➡️ Advisor Support ->...  NOT FALL BACK\n",
       "4  Truist Knowledge Domain: ➡️ Advisor Support ->...  NOT FALL BACK"
      ]
     },
     "execution_count": 65,
     "metadata": {},
     "output_type": "execute_result"
    }
   ],
   "source": [
    "data.head()"
   ]
  },
  {
   "cell_type": "code",
   "execution_count": 66,
   "id": "6c935689",
   "metadata": {},
   "outputs": [],
   "source": [
    "data['Bot Response'] = data['Bot Response'].apply(lambda x: x.replace('\\n', ' '))"
   ]
  },
  {
   "cell_type": "code",
   "execution_count": 67,
   "id": "3a603e27",
   "metadata": {},
   "outputs": [],
   "source": [
    "data['Status'] = data['Status'].replace({\"NOT FALL BACK\" : 0, \"FALL BACK\" : 1})"
   ]
  },
  {
   "cell_type": "code",
   "execution_count": 68,
   "id": "4be88963",
   "metadata": {},
   "outputs": [
    {
     "data": {
      "text/plain": [
       "Bot Response    199\n",
       "Status            2\n",
       "dtype: int64"
      ]
     },
     "execution_count": 68,
     "metadata": {},
     "output_type": "execute_result"
    }
   ],
   "source": [
    "data.nunique()"
   ]
  },
  {
   "cell_type": "code",
   "execution_count": 69,
   "id": "79a6791e",
   "metadata": {},
   "outputs": [
    {
     "data": {
      "text/html": [
       "<div>\n",
       "<style scoped>\n",
       "    .dataframe tbody tr th:only-of-type {\n",
       "        vertical-align: middle;\n",
       "    }\n",
       "\n",
       "    .dataframe tbody tr th {\n",
       "        vertical-align: top;\n",
       "    }\n",
       "\n",
       "    .dataframe thead th {\n",
       "        text-align: right;\n",
       "    }\n",
       "</style>\n",
       "<table border=\"1\" class=\"dataframe\">\n",
       "  <thead>\n",
       "    <tr style=\"text-align: right;\">\n",
       "      <th></th>\n",
       "      <th>Bot Response</th>\n",
       "      <th>Status</th>\n",
       "    </tr>\n",
       "  </thead>\n",
       "  <tbody>\n",
       "    <tr>\n",
       "      <th>194</th>\n",
       "      <td>I'm sorry, but I couldn't find specific inform...</td>\n",
       "      <td>1</td>\n",
       "    </tr>\n",
       "    <tr>\n",
       "      <th>195</th>\n",
       "      <td>If you're facing challenges with customer prof...</td>\n",
       "      <td>1</td>\n",
       "    </tr>\n",
       "    <tr>\n",
       "      <th>196</th>\n",
       "      <td>I don’t have details on household structure mo...</td>\n",
       "      <td>1</td>\n",
       "    </tr>\n",
       "    <tr>\n",
       "      <th>197</th>\n",
       "      <td>For help with family account management, I rec...</td>\n",
       "      <td>1</td>\n",
       "    </tr>\n",
       "    <tr>\n",
       "      <th>198</th>\n",
       "      <td>I don’t have exact details on household struct...</td>\n",
       "      <td>1</td>\n",
       "    </tr>\n",
       "  </tbody>\n",
       "</table>\n",
       "</div>"
      ],
      "text/plain": [
       "                                          Bot Response  Status\n",
       "194  I'm sorry, but I couldn't find specific inform...       1\n",
       "195  If you're facing challenges with customer prof...       1\n",
       "196  I don’t have details on household structure mo...       1\n",
       "197  For help with family account management, I rec...       1\n",
       "198  I don’t have exact details on household struct...       1"
      ]
     },
     "execution_count": 69,
     "metadata": {},
     "output_type": "execute_result"
    }
   ],
   "source": [
    "data.tail()"
   ]
  },
  {
   "cell_type": "code",
   "execution_count": 70,
   "id": "fc6ae590",
   "metadata": {},
   "outputs": [],
   "source": [
    "from transformers import BertTokenizer, BertModel\n",
    "import torch"
   ]
  },
  {
   "cell_type": "code",
   "execution_count": 71,
   "id": "7eee3b48",
   "metadata": {},
   "outputs": [],
   "source": [
    "tokenizer = BertTokenizer.from_pretrained('bert-base-uncased')\n",
    "model = BertModel.from_pretrained('bert-base-uncased')"
   ]
  },
  {
   "cell_type": "code",
   "execution_count": 72,
   "id": "da2845eb",
   "metadata": {},
   "outputs": [],
   "source": [
    "def get_bert_embeddings(sentences):\n",
    "    embeddings = []\n",
    "    for sentence in sentences:\n",
    "        inputs = tokenizer(sentence, return_tensors='pt', padding=True, truncation=True, max_length=512)\n",
    "        with torch.no_grad():\n",
    "            outputs = model(**inputs)\n",
    "        sentence_embedding = outputs.last_hidden_state.mean(dim=1).squeeze()\n",
    "        embeddings.append(sentence_embedding)\n",
    "    return np.array([embedding.numpy() for embedding in embeddings])"
   ]
  },
  {
   "cell_type": "code",
   "execution_count": 73,
   "id": "9942cf37",
   "metadata": {},
   "outputs": [],
   "source": [
    "import numpy as np"
   ]
  },
  {
   "cell_type": "code",
   "execution_count": 74,
   "id": "d60c0bb6",
   "metadata": {},
   "outputs": [],
   "source": [
    "sentence_embeddings = get_bert_embeddings(data['Bot Response'])"
   ]
  },
  {
   "cell_type": "code",
   "execution_count": 75,
   "id": "ef85f454",
   "metadata": {},
   "outputs": [],
   "source": [
    "from sklearn.model_selection import train_test_split"
   ]
  },
  {
   "cell_type": "code",
   "execution_count": 76,
   "id": "38fd8a72",
   "metadata": {},
   "outputs": [],
   "source": [
    "X_train, X_test, y_train, y_test = train_test_split(sentence_embeddings, data['Status'], test_size=0.2, random_state=42)"
   ]
  },
  {
   "cell_type": "code",
   "execution_count": 77,
   "id": "06331ba3",
   "metadata": {},
   "outputs": [],
   "source": [
    "from sklearn.linear_model import LogisticRegression\n",
    "from sklearn.metrics import classification_report, confusion_matrix"
   ]
  },
  {
   "cell_type": "code",
   "execution_count": 80,
   "id": "234a47aa",
   "metadata": {},
   "outputs": [
    {
     "data": {
      "text/plain": [
       "159"
      ]
     },
     "execution_count": 80,
     "metadata": {},
     "output_type": "execute_result"
    }
   ],
   "source": [
    "len(X_train)"
   ]
  },
  {
   "cell_type": "code",
   "execution_count": 81,
   "id": "c4fd3fba",
   "metadata": {},
   "outputs": [
    {
     "data": {
      "text/plain": [
       "40"
      ]
     },
     "execution_count": 81,
     "metadata": {},
     "output_type": "execute_result"
    }
   ],
   "source": [
    "len(X_test)"
   ]
  },
  {
   "cell_type": "code",
   "execution_count": 82,
   "id": "aacf12e8",
   "metadata": {},
   "outputs": [
    {
     "data": {
      "text/html": [
       "<style>#sk-container-id-2 {color: black;}#sk-container-id-2 pre{padding: 0;}#sk-container-id-2 div.sk-toggleable {background-color: white;}#sk-container-id-2 label.sk-toggleable__label {cursor: pointer;display: block;width: 100%;margin-bottom: 0;padding: 0.3em;box-sizing: border-box;text-align: center;}#sk-container-id-2 label.sk-toggleable__label-arrow:before {content: \"▸\";float: left;margin-right: 0.25em;color: #696969;}#sk-container-id-2 label.sk-toggleable__label-arrow:hover:before {color: black;}#sk-container-id-2 div.sk-estimator:hover label.sk-toggleable__label-arrow:before {color: black;}#sk-container-id-2 div.sk-toggleable__content {max-height: 0;max-width: 0;overflow: hidden;text-align: left;background-color: #f0f8ff;}#sk-container-id-2 div.sk-toggleable__content pre {margin: 0.2em;color: black;border-radius: 0.25em;background-color: #f0f8ff;}#sk-container-id-2 input.sk-toggleable__control:checked~div.sk-toggleable__content {max-height: 200px;max-width: 100%;overflow: auto;}#sk-container-id-2 input.sk-toggleable__control:checked~label.sk-toggleable__label-arrow:before {content: \"▾\";}#sk-container-id-2 div.sk-estimator input.sk-toggleable__control:checked~label.sk-toggleable__label {background-color: #d4ebff;}#sk-container-id-2 div.sk-label input.sk-toggleable__control:checked~label.sk-toggleable__label {background-color: #d4ebff;}#sk-container-id-2 input.sk-hidden--visually {border: 0;clip: rect(1px 1px 1px 1px);clip: rect(1px, 1px, 1px, 1px);height: 1px;margin: -1px;overflow: hidden;padding: 0;position: absolute;width: 1px;}#sk-container-id-2 div.sk-estimator {font-family: monospace;background-color: #f0f8ff;border: 1px dotted black;border-radius: 0.25em;box-sizing: border-box;margin-bottom: 0.5em;}#sk-container-id-2 div.sk-estimator:hover {background-color: #d4ebff;}#sk-container-id-2 div.sk-parallel-item::after {content: \"\";width: 100%;border-bottom: 1px solid gray;flex-grow: 1;}#sk-container-id-2 div.sk-label:hover label.sk-toggleable__label {background-color: #d4ebff;}#sk-container-id-2 div.sk-serial::before {content: \"\";position: absolute;border-left: 1px solid gray;box-sizing: border-box;top: 0;bottom: 0;left: 50%;z-index: 0;}#sk-container-id-2 div.sk-serial {display: flex;flex-direction: column;align-items: center;background-color: white;padding-right: 0.2em;padding-left: 0.2em;position: relative;}#sk-container-id-2 div.sk-item {position: relative;z-index: 1;}#sk-container-id-2 div.sk-parallel {display: flex;align-items: stretch;justify-content: center;background-color: white;position: relative;}#sk-container-id-2 div.sk-item::before, #sk-container-id-2 div.sk-parallel-item::before {content: \"\";position: absolute;border-left: 1px solid gray;box-sizing: border-box;top: 0;bottom: 0;left: 50%;z-index: -1;}#sk-container-id-2 div.sk-parallel-item {display: flex;flex-direction: column;z-index: 1;position: relative;background-color: white;}#sk-container-id-2 div.sk-parallel-item:first-child::after {align-self: flex-end;width: 50%;}#sk-container-id-2 div.sk-parallel-item:last-child::after {align-self: flex-start;width: 50%;}#sk-container-id-2 div.sk-parallel-item:only-child::after {width: 0;}#sk-container-id-2 div.sk-dashed-wrapped {border: 1px dashed gray;margin: 0 0.4em 0.5em 0.4em;box-sizing: border-box;padding-bottom: 0.4em;background-color: white;}#sk-container-id-2 div.sk-label label {font-family: monospace;font-weight: bold;display: inline-block;line-height: 1.2em;}#sk-container-id-2 div.sk-label-container {text-align: center;}#sk-container-id-2 div.sk-container {/* jupyter's `normalize.less` sets `[hidden] { display: none; }` but bootstrap.min.css set `[hidden] { display: none !important; }` so we also need the `!important` here to be able to override the default hidden behavior on the sphinx rendered scikit-learn.org. See: https://github.com/scikit-learn/scikit-learn/issues/21755 */display: inline-block !important;position: relative;}#sk-container-id-2 div.sk-text-repr-fallback {display: none;}</style><div id=\"sk-container-id-2\" class=\"sk-top-container\"><div class=\"sk-text-repr-fallback\"><pre>LogisticRegression(random_state=42)</pre><b>In a Jupyter environment, please rerun this cell to show the HTML representation or trust the notebook. <br />On GitHub, the HTML representation is unable to render, please try loading this page with nbviewer.org.</b></div><div class=\"sk-container\" hidden><div class=\"sk-item\"><div class=\"sk-estimator sk-toggleable\"><input class=\"sk-toggleable__control sk-hidden--visually\" id=\"sk-estimator-id-2\" type=\"checkbox\" checked><label for=\"sk-estimator-id-2\" class=\"sk-toggleable__label sk-toggleable__label-arrow\">LogisticRegression</label><div class=\"sk-toggleable__content\"><pre>LogisticRegression(random_state=42)</pre></div></div></div></div></div>"
      ],
      "text/plain": [
       "LogisticRegression(random_state=42)"
      ]
     },
     "execution_count": 82,
     "metadata": {},
     "output_type": "execute_result"
    }
   ],
   "source": [
    "clf = LogisticRegression(random_state=42)\n",
    "clf.fit(X_train, y_train)"
   ]
  },
  {
   "cell_type": "code",
   "execution_count": 84,
   "id": "8afd449b",
   "metadata": {},
   "outputs": [],
   "source": [
    "example = \"I don't have any relevant information on that topic.\"\n",
    "inputs = tokenizer(example, return_tensors='pt', padding=True, truncation=True, max_length=512)\n",
    "with torch.no_grad():\n",
    "    outputs = model(**inputs)\n",
    "sentence_embedding = outputs.last_hidden_state.mean(dim=1).squeeze()"
   ]
  },
  {
   "cell_type": "code",
   "execution_count": 86,
   "id": "afccd6e7",
   "metadata": {},
   "outputs": [],
   "source": [
    "sentence_embedding = sentence_embedding.numpy()"
   ]
  },
  {
   "cell_type": "code",
   "execution_count": 87,
   "id": "b130602c",
   "metadata": {},
   "outputs": [
    {
     "data": {
      "text/plain": [
       "array([ 1.37060791e-01,  4.58527803e-01, -2.13932171e-01, -8.56950209e-02,\n",
       "       -1.02117606e-01, -4.02501374e-01, -1.19254708e-01,  7.49894500e-01,\n",
       "        9.65455323e-02, -1.77848682e-01, -9.04677436e-02, -6.13193214e-01,\n",
       "       -1.29599094e-01,  7.12435305e-01,  2.34711561e-02,  3.93149376e-01,\n",
       "        4.29141149e-02, -1.11891866e-01, -2.34871171e-02,  2.31586337e-01,\n",
       "        6.46483665e-03, -5.00968732e-02, -2.96287447e-01,  2.86759675e-01,\n",
       "        4.65693295e-01, -3.97990018e-01, -3.90143663e-01,  2.58693188e-01,\n",
       "       -2.22036466e-01, -2.83692718e-01,  3.85238647e-01,  2.72898346e-01,\n",
       "       -2.05548093e-01,  5.09054363e-01,  1.29554003e-01, -4.55621146e-02,\n",
       "       -5.49787050e-03,  1.42352149e-01, -3.21699232e-01,  6.64218143e-02,\n",
       "       -4.80547577e-01, -2.19933353e-02,  8.97683725e-02,  1.56404421e-01,\n",
       "        3.33483852e-02, -1.39219478e-01,  4.13648456e-01, -1.93017170e-01,\n",
       "        1.40450131e-02, -1.26240015e-01, -9.69034806e-02,  3.91200632e-01,\n",
       "       -7.94953331e-02,  2.50762403e-01,  1.54476851e-01,  5.62868297e-01,\n",
       "       -2.56752759e-01, -7.65288770e-01, -4.29633617e-01,  2.36369879e-03,\n",
       "        3.37657422e-01,  6.85030445e-02,  6.01072498e-02, -5.43647647e-01,\n",
       "        4.33678836e-01,  1.55385390e-01,  1.12296984e-01,  1.10327918e-02,\n",
       "       -6.49271965e-01,  2.48966254e-02, -8.22287891e-03, -5.28992154e-02,\n",
       "       -1.26732007e-01, -3.24906521e-02, -3.28602158e-02,  2.00259104e-01,\n",
       "        2.42054373e-01,  3.84728432e-01, -1.77361026e-01,  6.42516240e-02,\n",
       "       -1.87717542e-01,  7.43514001e-01, -2.89403439e-01,  1.25655755e-01,\n",
       "        1.98812142e-01, -9.73463524e-03, -1.26026645e-01, -2.14963108e-01,\n",
       "       -1.14670224e-01,  3.48045886e-01, -6.14359416e-02,  1.78922668e-01,\n",
       "        2.47471020e-01,  5.13566695e-02,  2.58438975e-01, -2.97736436e-01,\n",
       "        1.26136824e-01, -2.30030194e-01, -2.31651038e-01,  2.16922209e-01,\n",
       "        1.69332653e-01, -3.29185307e-01, -3.06218676e-02,  1.36516541e-02,\n",
       "        8.02031234e-02,  1.59942918e-02,  2.62444288e-01,  6.62752911e-02,\n",
       "        2.22593307e-01, -2.06506506e-01,  1.98209122e-01,  2.33299389e-01,\n",
       "       -2.08363622e-01, -4.39002454e-01, -2.46060997e-01,  4.82615739e-01,\n",
       "        2.52920598e-01, -1.19146004e-01,  9.62766334e-02,  1.57778025e-01,\n",
       "       -3.73092145e-01,  8.15607831e-02,  2.20647193e-02,  5.42428017e-01,\n",
       "       -2.42123649e-01,  9.04374346e-02,  2.41526157e-01,  1.71323627e-01,\n",
       "       -1.04341231e-01, -4.48797882e-01, -2.38015894e-02,  4.50176775e-01,\n",
       "        2.80324072e-01, -1.82205334e-01, -4.19412524e-01,  1.83750540e-01,\n",
       "        1.74555615e-01, -1.65918797e-01, -3.03969353e-01,  1.36198238e-01,\n",
       "        4.04985547e-02, -1.43960118e-01,  1.96400806e-01, -8.66864771e-02,\n",
       "        5.86667173e-02,  3.96590889e-01,  2.75944412e-01, -1.80058196e-01,\n",
       "        3.12672049e-01, -2.19428778e-01, -1.76042709e-02,  1.40876979e-01,\n",
       "        7.94545785e-02,  1.27140820e-01, -3.54647845e-01,  4.00119685e-02,\n",
       "       -2.77151078e-01,  3.19290340e-01,  1.46255866e-01, -7.34348074e-02,\n",
       "        3.42603773e-01, -1.62978634e-01, -1.46505088e-01,  6.90809608e-01,\n",
       "        2.12005988e-01, -2.55826022e-02,  3.57675962e-02,  2.25116745e-01,\n",
       "        2.15170458e-01, -8.27812031e-02, -3.37410748e-01, -1.52133703e-01,\n",
       "        4.41350192e-01, -3.39405537e-01,  2.35347655e-02,  1.64843366e-01,\n",
       "       -2.05910042e-01,  3.93451422e-01,  1.59980014e-01,  2.73819696e-02,\n",
       "       -1.62954438e+00, -1.45544752e-03,  2.99754888e-01, -4.94071722e-01,\n",
       "        2.02811524e-01, -2.80111283e-02,  4.12838221e-01, -3.93825054e-01,\n",
       "       -1.92134306e-01,  3.64953309e-01, -2.56062359e-01, -3.64959091e-01,\n",
       "        1.86967794e-02, -1.05217889e-01,  4.12723988e-01, -4.59686279e-01,\n",
       "       -2.97940463e-01, -2.01118495e-02, -1.85098872e-01,  4.38022949e-02,\n",
       "        8.27139616e-02,  1.94138270e-02, -1.88938811e-01,  7.77065977e-02,\n",
       "       -8.09901115e-03,  3.66691202e-01, -7.34787732e-02, -3.56800295e-02,\n",
       "       -4.57121208e-02,  2.52129406e-01, -7.22198844e-01,  2.37408280e-01,\n",
       "       -1.12062536e-01, -1.42069310e-01,  1.03286132e-01,  3.54009449e-01,\n",
       "        1.52794138e-01, -1.41114965e-01, -1.32681966e-01, -2.21985981e-01,\n",
       "       -2.12867726e-02, -1.21225044e-01, -5.92265904e-01,  4.60615218e-01,\n",
       "       -3.92872281e-02,  2.26380810e-01, -2.39889119e-02,  5.58162928e-01,\n",
       "        1.43691078e-01, -4.01785709e-02, -3.76798697e-02, -3.40463072e-01,\n",
       "        4.34508562e-01,  2.76218891e-01, -5.02919614e-01, -3.61885242e-02,\n",
       "       -4.28543746e-01, -1.10510126e-01, -1.66541964e-01, -2.01126501e-01,\n",
       "        1.43203437e-02,  3.76706660e-01,  1.61131307e-01,  4.44905192e-01,\n",
       "        2.27665380e-01,  2.40116969e-01, -1.62505358e-01, -9.33256969e-02,\n",
       "        4.62667383e-02, -2.00562224e-01, -4.03210729e-01, -4.78504479e-01,\n",
       "        1.25098348e-01, -4.32396799e-01, -2.58673191e-01,  2.06177145e-01,\n",
       "       -3.50591958e-01,  2.15495452e-01,  1.56371713e-01,  1.32959619e-01,\n",
       "        2.71910638e-01,  1.85339332e-01,  1.63661838e-02,  2.27401704e-01,\n",
       "       -5.70377052e-01, -1.66299611e-01,  5.27128458e-01,  6.01529423e-03,\n",
       "        1.20051373e-02,  1.54008478e-01,  1.85581759e-01, -3.84445131e-01,\n",
       "       -2.70481020e-01, -1.60164580e-01, -1.37825698e-01, -1.33173451e-01,\n",
       "        4.42932770e-02, -2.58629527e-02,  2.82205015e-01, -1.18835054e-01,\n",
       "        1.31013721e-01,  2.33805194e-01, -4.20292288e-01,  3.52587551e-01,\n",
       "       -1.12061374e-01, -2.83217937e-01, -9.55028161e-02, -5.49200177e-03,\n",
       "       -3.19512367e-01, -3.85851771e-01, -2.82368511e-01, -8.03393647e-02,\n",
       "       -2.04791933e-01, -5.28609216e-01,  4.95334148e-01,  4.45060395e-02,\n",
       "        3.02504152e-01,  6.24195859e-02, -1.48409650e-01, -2.71468312e-01,\n",
       "       -5.91403320e-02,  2.55002938e-02,  1.00536704e-01,  6.57962859e-02,\n",
       "       -4.44763422e-01,  2.81627864e-01, -4.08422291e-01, -3.29988986e-01,\n",
       "       -3.42404509e+00,  1.56256706e-01, -2.76589602e-01, -3.11673135e-01,\n",
       "        1.15972117e-01,  1.54932156e-01, -2.18638644e-01, -2.20966175e-01,\n",
       "       -1.50823385e-01, -3.29550564e-01, -2.25571349e-01, -2.32436061e-01,\n",
       "        5.43360293e-01,  1.72546789e-01,  3.20840091e-01,  1.67759150e-01,\n",
       "       -2.92601772e-02, -4.53317702e-01, -4.93598953e-02,  5.90225101e-01,\n",
       "       -3.44776332e-01,  2.70654410e-01,  2.81506348e-02, -2.63135764e-03,\n",
       "        6.05706692e-01,  8.45947146e-01, -3.15024048e-01,  1.26892850e-01,\n",
       "       -1.44613147e-01, -1.21354446e-01,  1.04900979e-01, -7.13839710e-01,\n",
       "       -2.18509749e-01, -1.36658922e-01,  6.41870275e-02,  1.56030655e-02,\n",
       "       -6.34203017e-01, -1.72110591e-02,  1.79089352e-01,  1.26460508e-01,\n",
       "        1.54164033e-02, -1.76739484e-01,  1.11643292e-01, -4.28366989e-01,\n",
       "        7.12736487e-01, -2.50778049e-01, -4.09643859e-01, -4.98806804e-01,\n",
       "       -3.84343207e-01,  3.35534841e-01, -3.49008068e-02, -9.83434394e-02,\n",
       "        1.45426363e-01, -2.73591965e-01, -1.91163197e-01,  1.08082637e-01,\n",
       "        4.45185184e-01,  5.33958733e-01, -1.36919186e-01, -1.00890353e-01,\n",
       "        3.19677979e-01, -5.40094674e-01, -1.14247128e-01, -3.37273806e-01,\n",
       "       -1.04492582e-01, -1.38724044e-01, -3.43655825e-01, -2.60049313e-01,\n",
       "        3.46588463e-01, -2.74906993e-01,  2.39040747e-01,  8.45107511e-02,\n",
       "       -4.21943188e-01, -8.07170570e-01, -1.40308052e-01, -2.61305124e-01,\n",
       "       -9.33739617e-02,  1.14441678e-01,  1.06459633e-01, -9.74627510e-02,\n",
       "       -1.35562852e-01, -5.32777667e-01, -4.81983334e-01,  1.56857878e-01,\n",
       "       -3.34292352e-01, -4.32664186e-01, -1.98229607e-02, -4.10682887e-01,\n",
       "       -2.80282527e-01, -4.99323189e-01,  2.17669562e-01,  3.15702885e-01,\n",
       "        9.97146741e-02,  2.26694599e-01, -2.80033909e-02,  1.09768607e-01,\n",
       "        1.50406789e-02, -5.18240750e-01, -3.62760127e-02,  1.39652684e-01,\n",
       "        4.03159589e-01,  9.63064432e-02,  7.90094733e-02,  2.17149615e-01,\n",
       "        1.47075921e-01,  1.44215226e-02, -4.46326256e-01, -2.21026808e-01,\n",
       "        1.25097558e-01,  2.86128610e-01,  2.66315997e-01, -5.00362754e-01,\n",
       "        3.80703926e-01, -4.93638739e-02, -2.52467673e-02,  6.57130703e-02,\n",
       "        3.25551033e-01,  4.14933339e-02, -1.53241768e-01, -3.60435769e-02,\n",
       "        8.36393237e-02,  5.18076956e-01, -4.34815466e-01, -8.63447338e-02,\n",
       "       -5.16976416e-01, -1.00954339e-01, -9.08435732e-02, -7.98959285e-02,\n",
       "       -1.65041443e-02, -3.22016142e-02,  3.86435181e-01, -7.54038841e-02,\n",
       "       -2.83402383e-01,  3.63674253e-01,  1.83997881e-02, -3.59320670e-01,\n",
       "       -7.43759945e-02, -7.21847937e-02,  9.23469067e-02,  1.13361754e-01,\n",
       "        2.67867506e-01,  2.33934209e-01, -3.26635569e-01,  5.72868407e-01,\n",
       "       -4.30419177e-01,  4.26304609e-01,  4.72597145e-02,  7.66844079e-02,\n",
       "       -1.74124271e-01,  2.18851075e-01, -1.94033816e-01, -3.56704921e-01,\n",
       "        3.17244530e-02, -4.48261090e-02,  1.32674247e-01,  3.19048494e-01,\n",
       "        8.07443261e-01, -9.97556522e-02,  1.46504922e-03, -3.20702076e-01,\n",
       "        8.37872550e-02, -1.79646373e-01,  1.77145705e-01,  4.67362136e-01,\n",
       "        1.37298808e-01,  3.04511636e-01, -2.50400156e-01, -8.93161222e-02,\n",
       "       -1.37525126e-01,  2.20022295e-02, -2.53657281e-01, -1.71760708e-01,\n",
       "       -1.42231286e-02, -3.65207374e-01,  1.81588918e-01,  2.14259755e-02,\n",
       "        5.57137132e-02,  1.60273686e-01, -2.48974651e-01,  9.19591337e-02,\n",
       "        1.68175817e-01, -6.88319683e-01,  1.73104048e-01, -1.64454848e-01,\n",
       "        2.54278362e-01,  3.49414140e-01, -1.15508223e-02, -7.67828226e-02,\n",
       "        2.34272525e-01,  5.10223471e-02, -4.05792505e-01, -7.12876096e-02,\n",
       "       -2.68976390e-01,  2.43774466e-02, -5.86375833e-01, -3.29519004e-01,\n",
       "        5.64901948e-01, -5.27343631e-01,  4.17136908e-01,  1.38972580e-01,\n",
       "        7.58650005e-01, -9.46202800e-02, -2.54350454e-01,  4.76147443e-01,\n",
       "        2.02034563e-02,  5.26275635e-02,  4.34086993e-02, -2.65186161e-01,\n",
       "       -4.08126861e-01,  1.62881427e-02, -2.93739051e-01, -2.25657910e-01,\n",
       "       -1.61897987e-01, -1.92863807e-01,  1.94705829e-01,  4.43133302e-02,\n",
       "        7.93554559e-02, -1.94795445e-01, -1.56591311e-01,  4.45311308e-01,\n",
       "       -4.54132296e-02, -1.59243140e-02,  4.33083624e-01, -3.87599692e-03,\n",
       "       -2.68999755e-01, -3.25462855e-02,  1.83012620e-01,  6.70386627e-02,\n",
       "       -5.21390557e-01,  4.39287163e-02, -8.31183732e-01, -4.22095358e-01,\n",
       "        1.89295053e-01,  2.08614603e-01,  2.33756438e-01,  3.59047502e-01,\n",
       "       -1.44697383e-01, -1.72616929e-01,  2.86160260e-01,  3.04934740e-01,\n",
       "        8.92688185e-02,  1.85315967e-01,  2.98920013e-02, -1.67925701e-01,\n",
       "       -1.43873477e-02, -3.32683384e-01,  2.22794190e-01,  4.69810784e-01,\n",
       "       -3.05941850e-01, -1.54262766e-01,  1.47788391e-01, -1.27126500e-01,\n",
       "       -3.42592478e-01, -1.14322476e-01, -1.17664086e-02, -4.82305825e-01,\n",
       "       -4.69803870e-01,  1.53647706e-01, -3.26230191e-02,  4.06946987e-01,\n",
       "        1.96743354e-01, -2.46262431e-01,  2.89525747e-01,  3.94643307e-01,\n",
       "       -2.37447128e-01,  1.60766855e-01, -2.09995702e-01,  2.82417417e-01,\n",
       "        4.39491980e-02, -1.11734159e-01, -2.27838650e-01,  1.53192163e-01,\n",
       "        3.30415100e-01,  3.85246947e-02, -1.44766495e-01,  4.02928680e-01,\n",
       "       -2.00367600e-01, -7.51714885e-01,  1.32117420e-01, -1.33815780e-01,\n",
       "        3.97748888e-01,  1.94360122e-01,  2.63826132e-01, -1.36548311e-01,\n",
       "        2.41450310e-01, -3.01496655e-01, -1.14486687e-01,  4.47539568e-01,\n",
       "       -2.02644140e-01, -4.27527606e-01,  5.60779646e-02,  4.74667549e-01,\n",
       "       -1.77136987e-01,  2.60992080e-01,  1.01496562e-01,  1.97264269e-01,\n",
       "        5.27188420e-01,  3.80408973e-03,  9.42753404e-02,  7.35376542e-03,\n",
       "       -1.86204910e-01,  2.61810392e-01,  1.29154116e-01,  1.28690168e-01,\n",
       "        7.57467076e-02,  5.32002151e-02,  2.11133976e-02, -4.20270823e-02,\n",
       "        5.17823875e-01,  3.22491854e-01, -1.93135351e-01, -8.17537159e-02,\n",
       "        6.25966728e-01,  3.19576770e-01, -4.41765457e-01, -3.32794666e-01,\n",
       "        2.45643452e-01, -5.05200207e-01, -4.39888895e-01,  2.10489243e-01,\n",
       "        5.08424230e-02, -4.06622797e-01,  3.49748224e-01,  1.11644030e-01,\n",
       "       -4.28516008e-02,  1.57381266e-01, -3.11493427e-01,  4.45667021e-02,\n",
       "        1.35445669e-01,  2.92900801e-01,  1.22667998e-02, -1.07649982e-01,\n",
       "       -7.93099254e-02,  5.60133040e-01, -2.24024877e-01, -4.30519655e-02,\n",
       "        3.20407599e-01, -2.45108560e-01,  2.74662167e-01,  1.66059062e-01,\n",
       "       -1.38485834e-01,  8.22697356e-02, -9.27101355e-03,  2.89602369e-01,\n",
       "        6.95401877e-02, -2.75614470e-01,  7.71767125e-02, -8.77093598e-02,\n",
       "        6.11040115e-01, -9.55424365e-03, -1.23833053e-01,  4.57626671e-01,\n",
       "       -2.17015103e-01,  5.88587523e-02, -1.69434831e-01,  1.15637839e-01,\n",
       "        4.03532743e-01,  6.12500682e-02,  4.88555208e-02, -1.72450040e-02,\n",
       "        3.01073641e-01,  1.07031323e-01,  1.49783060e-01, -2.81689048e-01,\n",
       "       -4.29149531e-02,  4.41044569e-01,  2.62950331e-01, -3.14051092e-01,\n",
       "        5.83530180e-02, -4.64526825e-02, -3.90000343e-02,  3.44841003e-01,\n",
       "       -2.32605457e-01, -1.39206856e-01, -4.04438913e-01,  1.85350925e-01,\n",
       "        2.26904392e-01,  9.70062392e-04,  5.55467196e-02, -1.20743001e-02,\n",
       "        3.71214151e-02, -1.27081394e-01, -4.33084726e-01, -2.88960010e-01,\n",
       "        1.98904663e-01, -6.09172940e-01,  5.81281446e-02, -6.91674054e-02,\n",
       "        5.12627721e-01, -3.00967395e-01,  7.15502426e-02, -2.99399137e-01,\n",
       "        2.62820870e-01, -3.66362184e-01,  2.13271648e-01, -3.08174849e-01,\n",
       "        2.30999857e-01,  3.21832806e-01,  4.97922122e-01, -1.20762967e-01,\n",
       "       -6.40587732e-02, -2.76425421e-01,  1.61240697e-01,  4.75417554e-01,\n",
       "       -1.80149153e-01,  1.92953005e-01,  1.06365599e-01, -1.06457576e-01,\n",
       "       -6.21312201e-01, -7.69072533e-01,  1.90875642e-02,  5.47123790e-01,\n",
       "       -1.24786103e+00,  5.39680608e-02,  3.03668939e-02, -1.82183087e-02,\n",
       "        2.07270652e-01, -3.23351845e-02, -1.21106699e-01, -9.96987373e-02,\n",
       "       -1.15723088e-01, -1.86578348e-01, -1.73349366e-01,  3.43114644e-01,\n",
       "       -1.37225270e-01, -1.28109947e-01,  1.51053280e-01,  5.78822255e-01,\n",
       "        3.11171234e-01, -3.56700331e-01, -1.50153702e-02,  4.03047383e-01,\n",
       "        1.36137754e-01,  9.57304165e-02,  2.49868594e-02, -1.68487355e-01,\n",
       "        7.66121922e-03,  6.80892393e-02, -2.97546685e-01, -1.70392975e-01,\n",
       "        2.47184727e-02,  1.87148005e-01,  2.54430711e-01, -2.18493685e-01,\n",
       "       -7.64868855e-01,  1.00211069e-01,  3.94551814e-01, -3.87445748e-01,\n",
       "       -1.94223449e-01, -8.78443196e-02, -1.82234436e-01, -1.79332495e-01,\n",
       "        1.18129499e-01, -4.37447876e-01, -1.31905988e-01, -3.24352503e-01,\n",
       "        1.16434492e-01, -2.14899927e-01,  5.44756232e-03, -6.54610991e-03],\n",
       "      dtype=float32)"
      ]
     },
     "execution_count": 87,
     "metadata": {},
     "output_type": "execute_result"
    }
   ],
   "source": [
    "sentence_embedding"
   ]
  },
  {
   "cell_type": "code",
   "execution_count": 88,
   "id": "36777489",
   "metadata": {},
   "outputs": [
    {
     "data": {
      "text/plain": [
       "array([1], dtype=int64)"
      ]
     },
     "execution_count": 88,
     "metadata": {},
     "output_type": "execute_result"
    }
   ],
   "source": [
    "clf.predict([sentence_embedding])"
   ]
  },
  {
   "cell_type": "code",
   "execution_count": 89,
   "id": "0f92bfed",
   "metadata": {},
   "outputs": [],
   "source": [
    "y_pred = clf.predict(X_test)"
   ]
  },
  {
   "cell_type": "code",
   "execution_count": 90,
   "id": "4261169d",
   "metadata": {},
   "outputs": [
    {
     "name": "stdout",
     "output_type": "stream",
     "text": [
      "Classification Report:\n",
      "              precision    recall  f1-score   support\n",
      "\n",
      "           0       1.00      1.00      1.00        21\n",
      "           1       1.00      1.00      1.00        19\n",
      "\n",
      "    accuracy                           1.00        40\n",
      "   macro avg       1.00      1.00      1.00        40\n",
      "weighted avg       1.00      1.00      1.00        40\n",
      "\n"
     ]
    }
   ],
   "source": [
    "print(\"Classification Report:\")\n",
    "print(classification_report(y_test, y_pred))"
   ]
  },
  {
   "cell_type": "code",
   "execution_count": 91,
   "id": "2c61e393",
   "metadata": {},
   "outputs": [],
   "source": [
    "import seaborn as sns\n",
    "import matplotlib.pyplot as plt"
   ]
  },
  {
   "cell_type": "code",
   "execution_count": 92,
   "id": "ca671c1a",
   "metadata": {},
   "outputs": [
    {
     "data": {
      "image/png": "[encoded data removed]",
      "text/plain": [
       "<Figure size 600x600 with 2 Axes>"
      ]
     },
     "metadata": {},
     "output_type": "display_data"
    }
   ],
   "source": [
    "cm = confusion_matrix(y_test, y_pred)\n",
    "plt.figure(figsize=(6, 6))\n",
    "sns.heatmap(cm, annot=True, fmt=\"d\", cmap=\"Blues\", xticklabels=[\"Non-Fallback\", \"Fallback\"], yticklabels=[\"Non-Fallback\", \"Fallback\"])\n",
    "plt.xlabel('Predicted')\n",
    "plt.ylabel('Actual')\n",
    "plt.title('Confusion Matrix')\n",
    "plt.show()"
   ]
  },
  {
   "cell_type": "code",
   "execution_count": 94,
   "id": "332d0c4c",
   "metadata": {},
   "outputs": [],
   "source": [
    "example2 = data['Bot Response'].iloc[198]"
   ]
  },
  {
   "cell_type": "code",
   "execution_count": 95,
   "id": "e5ece1a7",
   "metadata": {},
   "outputs": [
    {
     "data": {
      "text/plain": [
       "'I don’t have exact details on household structure modifications, but I suggest reaching out to Operations Support for guidance.'"
      ]
     },
     "execution_count": 95,
     "metadata": {},
     "output_type": "execute_result"
    }
   ],
   "source": [
    "example2"
   ]
  },
  {
   "cell_type": "code",
   "execution_count": 96,
   "id": "2fab1808",
   "metadata": {},
   "outputs": [],
   "source": [
    "inputs = tokenizer(example2, return_tensors='pt', padding=True, truncation=True, max_length=512)\n",
    "with torch.no_grad():\n",
    "    outputs = model(**inputs)\n",
    "sentence_embedding = outputs.last_hidden_state.mean(dim=1).squeeze()"
   ]
  },
  {
   "cell_type": "code",
   "execution_count": 98,
   "id": "e8a917db",
   "metadata": {},
   "outputs": [
    {
     "data": {
      "text/plain": [
       "array([1], dtype=int64)"
      ]
     },
     "execution_count": 98,
     "metadata": {},
     "output_type": "execute_result"
    }
   ],
   "source": [
    "clf.predict([sentence_embedding.numpy()])"
   ]
  },
  {
   "cell_type": "code",
   "execution_count": 99,
   "id": "b9e279a1",
   "metadata": {},
   "outputs": [],
   "source": [
    "import joblib"
   ]
  },
  {
   "cell_type": "code",
   "execution_count": 100,
   "id": "f40c2084",
   "metadata": {},
   "outputs": [
    {
     "data": {
      "text/plain": [
       "['fallback.joblib']"
      ]
     },
     "execution_count": 100,
     "metadata": {},
     "output_type": "execute_result"
    }
   ],
   "source": [
    "joblib.dump(clf, 'fallback.joblib')"
   ]
  },
  {
   "cell_type": "code",
   "execution_count": 102,
   "id": "20834b84",
   "metadata": {},
   "outputs": [],
   "source": [
    "example3 = data['Bot Response'].iloc[0]"
   ]
  },
  {
   "cell_type": "code",
   "execution_count": 103,
   "id": "fabe77f6",
   "metadata": {},
   "outputs": [],
   "source": [
    "inputs = tokenizer(example3, return_tensors='pt', padding=True, truncation=True, max_length=512)\n",
    "with torch.no_grad():\n",
    "    outputs = model(**inputs)\n",
    "sentence_embedding = outputs.last_hidden_state.mean(dim=1).squeeze()"
   ]
  },
  {
   "cell_type": "code",
   "execution_count": 104,
   "id": "ec8bd6ea",
   "metadata": {},
   "outputs": [
    {
     "data": {
      "text/plain": [
       "array([0], dtype=int64)"
      ]
     },
     "execution_count": 104,
     "metadata": {},
     "output_type": "execute_result"
    }
   ],
   "source": [
    "clf.predict([sentence_embedding.numpy()])"
   ]
  },
  {
   "cell_type": "code",
   "execution_count": null,
   "id": "b2be7fa3",
   "metadata": {},
   "outputs": [],
   "source": []
  }
 ],
 "metadata": {
  "kernelspec": {
   "display_name": "Python 3 (ipykernel)",
   "language": "python",
   "name": "python3"
  },
  "language_info": {
   "codemirror_mode": {
    "name": "ipython",
    "version": 3
   },
   "file_extension": ".py",
   "mimetype": "text/x-python",
   "name": "python",
   "nbconvert_exporter": "python",
   "pygments_lexer": "ipython3",
   "version": "3.11.4"
  }
 },
 "nbformat": 4,
 "nbformat_minor": 5
}
